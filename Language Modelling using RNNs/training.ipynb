{
 "cells": [
  {
   "cell_type": "code",
   "execution_count": 23,
   "metadata": {
    "id": "oxiZ42B4SwQ-"
   },
   "outputs": [],
   "source": [
    "%matplotlib inline\n",
    "\n",
    "import numpy as np\n",
    "from matplotlib import pyplot as plt\n",
    "import time\n",
    "import os\n",
    "import torch\n",
    "import torch.nn as nn\n",
    "from torch.autograd import Variable\n",
    "from torch.utils.data import Dataset, DataLoader\n",
    "from tests import test_prediction, test_generation\n"
   ]
  },
  {
   "cell_type": "code",
   "execution_count": 24,
   "metadata": {},
   "outputs": [
    {
     "name": "stdout",
     "output_type": "stream",
     "text": [
      "Sun Nov 22 14:28:17 2020       \n",
      "+-----------------------------------------------------------------------------+\n",
      "| NVIDIA-SMI 440.33.01    Driver Version: 440.33.01    CUDA Version: 10.2     |\n",
      "|-------------------------------+----------------------+----------------------+\n",
      "| GPU  Name        Persistence-M| Bus-Id        Disp.A | Volatile Uncorr. ECC |\n",
      "| Fan  Temp  Perf  Pwr:Usage/Cap|         Memory-Usage | GPU-Util  Compute M. |\n",
      "|===============================+======================+======================|\n",
      "|   0  TITAN RTX           Off  | 00000000:04:00.0 Off |                  N/A |\n",
      "| 42%   63C    P2   182W / 280W |  21757MiB / 24220MiB |     92%      Default |\n",
      "+-------------------------------+----------------------+----------------------+\n",
      "|   1  TITAN RTX           Off  | 00000000:05:00.0 Off |                  N/A |\n",
      "| 82%   87C    P2   174W / 280W |  19108MiB / 24220MiB |     85%      Default |\n",
      "+-------------------------------+----------------------+----------------------+\n",
      "|   2  TITAN RTX           Off  | 00000000:08:00.0 Off |                  N/A |\n",
      "| 96%   88C    P2   107W / 280W |  19108MiB / 24220MiB |     84%      Default |\n",
      "+-------------------------------+----------------------+----------------------+\n",
      "|   3  TITAN RTX           Off  | 00000000:09:00.0 Off |                  N/A |\n",
      "| 91%   88C    P2   135W / 280W |  19108MiB / 24220MiB |     85%      Default |\n",
      "+-------------------------------+----------------------+----------------------+\n",
      "|   4  TITAN RTX           Off  | 00000000:84:00.0 Off |                  N/A |\n",
      "| 41%   38C    P8     3W / 280W |  21178MiB / 24220MiB |      0%      Default |\n",
      "+-------------------------------+----------------------+----------------------+\n",
      "|   5  TITAN RTX           Off  | 00000000:85:00.0 Off |                  N/A |\n",
      "| 70%   86C    P2   246W / 280W |  24014MiB / 24220MiB |     86%      Default |\n",
      "+-------------------------------+----------------------+----------------------+\n",
      "|   6  TITAN RTX           Off  | 00000000:88:00.0 Off |                  N/A |\n",
      "| 41%   33C    P8    19W / 280W |   2526MiB / 24220MiB |      0%      Default |\n",
      "+-------------------------------+----------------------+----------------------+\n",
      "|   7  TITAN RTX           Off  | 00000000:89:00.0 Off |                  N/A |\n",
      "| 68%   86C    P2   148W / 280W |  24014MiB / 24220MiB |     40%      Default |\n",
      "+-------------------------------+----------------------+----------------------+\n",
      "                                                                               \n",
      "+-----------------------------------------------------------------------------+\n",
      "| Processes:                                                       GPU Memory |\n",
      "|  GPU       PID   Type   Process name                             Usage      |\n",
      "|=============================================================================|\n",
      "|    0      7300      C   python                                     20865MiB |\n",
      "|    0     32208      C   .../anaconda3/envs/shayeree_env/bin/python   861MiB |\n",
      "|    1      7300      C   python                                     19077MiB |\n",
      "|    2      7300      C   python                                     19077MiB |\n",
      "|    3      7300      C   python                                     19077MiB |\n",
      "|    4     32208      C   .../anaconda3/envs/shayeree_env/bin/python 21167MiB |\n",
      "|    5     43963      C   python3                                    24003MiB |\n",
      "|    7     14462      C   python3                                    24003MiB |\n",
      "+-----------------------------------------------------------------------------+\n"
     ]
    }
   ],
   "source": [
    "!nvidia-smi"
   ]
  },
  {
   "cell_type": "code",
   "execution_count": null,
   "metadata": {},
   "outputs": [],
   "source": [
    "!kill 19671  "
   ]
  },
  {
   "cell_type": "code",
   "execution_count": 25,
   "metadata": {
    "id": "x5znxQhLSwRC"
   },
   "outputs": [],
   "source": [
    "# load all that we need\n",
    "dataset = np.load('../dataset/wiki.train.npy', allow_pickle=True)\n",
    "devset = np.load('../dataset/wiki.valid.npy', allow_pickle=True)\n",
    "fixtures_pred = np.load('../fixtures/prediction.npz')  # dev\n",
    "fixtures_gen = np.load('../fixtures/generation.npy')  # dev\n",
    "fixtures_pred_test = np.load('../fixtures/prediction_test.npz')  # test\n",
    "fixtures_gen_test = np.load('../fixtures/generation_test.npy')  # test\n",
    "vocab = np.load('../dataset/vocab.npy')"
   ]
  },
  {
   "cell_type": "code",
   "execution_count": 26,
   "metadata": {},
   "outputs": [
    {
     "data": {
      "text/plain": [
       "numpy.ndarray"
      ]
     },
     "execution_count": 26,
     "metadata": {},
     "output_type": "execute_result"
    }
   ],
   "source": [
    "type(dataset)"
   ]
  },
  {
   "cell_type": "code",
   "execution_count": 27,
   "metadata": {},
   "outputs": [
    {
     "data": {
      "text/plain": [
       "(3803,)"
      ]
     },
     "execution_count": 27,
     "metadata": {},
     "output_type": "execute_result"
    }
   ],
   "source": [
    "dataset[0].shape"
   ]
  },
  {
   "cell_type": "code",
   "execution_count": 28,
   "metadata": {},
   "outputs": [
    {
     "data": {
      "text/plain": [
       "(59,)"
      ]
     },
     "execution_count": 28,
     "metadata": {},
     "output_type": "execute_result"
    }
   ],
   "source": [
    "devset.shape"
   ]
  },
  {
   "cell_type": "code",
   "execution_count": 29,
   "metadata": {},
   "outputs": [
    {
     "data": {
      "text/plain": [
       "(33278,)"
      ]
     },
     "execution_count": 29,
     "metadata": {},
     "output_type": "execute_result"
    }
   ],
   "source": [
    "vocab.shape"
   ]
  },
  {
   "cell_type": "code",
   "execution_count": 30,
   "metadata": {},
   "outputs": [],
   "source": [
    "device=torch.device(\"cuda:6\" if torch.cuda.is_available() else \"cpu\")"
   ]
  },
  {
   "cell_type": "code",
   "execution_count": 85,
   "metadata": {
    "id": "OZNrJ8XvSwRF"
   },
   "outputs": [],
   "source": [
    "# data loader\n",
    "\n",
    "class LanguageModelDataLoader(DataLoader):\n",
    "    \"\"\"\n",
    "        TODO: Define data loader logic here\n",
    "    \"\"\"\n",
    "    def __init__(self, dataset, batch_size, shuffle=True):\n",
    "        \n",
    "        self.dataset=dataset\n",
    "        self.bs=batch_size\n",
    "        self.shuffle=shuffle\n",
    "\n",
    "    def __iter__(self):\n",
    "        \n",
    "        # concatenate your articles and build into batches\n",
    "        if self.shuffle:\n",
    "            np.random.shuffle(self.dataset)\n",
    "        #In order to concatenate we must flatten\n",
    "        concat=np.concatenate(self.dataset)\n",
    "        \n",
    "        #print(\"Shape of dataset :\",self.dataset.shape)\n",
    "        #now we have to choose the sequence length\n",
    "        #We use BPTT as used in the paper\n",
    "        \n",
    "        #Now we have the seq_len\n",
    "        #Now we can group the articles into sequences based on the batch size\n",
    "        no_of_splits=(concat.shape[0]-1)//self.bs\n",
    "        X=torch.from_numpy(concat[:no_of_splits*self.bs].reshape(self.bs,-1)).type(torch.LongTensor)\n",
    "        Y=torch.from_numpy(concat[1:no_of_splits*self.bs+1].reshape(self.bs,-1)).type(torch.LongTensor)\n",
    "        idx=0\n",
    "        #print(\"No of possible splits :\", no_of_splits)\n",
    "        while idx < no_of_splits:\n",
    "            p=np.random.random_sample()\n",
    "            if p < 0.95:\n",
    "                seq_len=round(np.random.normal(70,5))\n",
    "            else:\n",
    "                seq_len=round(np.random.normal(35,5))\n",
    "            final_X=X[:,idx:idx+seq_len]\n",
    "            final_Y=Y[:,idx:idx+seq_len]\n",
    "            idx=idx+seq_len\n",
    "            yield final_X, final_Y\n",
    "       "
   ]
  },
  {
   "cell_type": "code",
   "execution_count": 86,
   "metadata": {
    "id": "Zt-7YsTYSwRI"
   },
   "outputs": [],
   "source": [
    "# model\n",
    "class LanguageModel(nn.Module):\n",
    "    \"\"\"\n",
    "        TODO: Define your model here\n",
    "    \"\"\"\n",
    "    def __init__(self, vocab_size):\n",
    "        super(LanguageModel, self).__init__()\n",
    "        \n",
    "        #Embedding Layer\n",
    "        #LSTM Layer\n",
    "        self.embed=nn.Embedding(vocab_size,400)\n",
    "        self.lstm = nn.LSTM(400,hidden_size=1150,num_layers=3,batch_first=True)\n",
    "        self.linear = nn.Linear(1150, vocab_size)\n",
    "\n",
    "    def forward(self, x,h0=None):\n",
    "        # Feel free to add extra arguments to forward (like an argument to pass in the hiddens)\n",
    "        x=self.embed(x)\n",
    "        if h0:\n",
    "            x, hidden = self.lstm(x, h0)\n",
    "        else:\n",
    "            x, hidden = self.lstm(x)\n",
    "        self.lstm.flatten_parameters()\n",
    "        x=self.linear(x)\n",
    "\n",
    "        return x,hidden"
   ]
  },
  {
   "cell_type": "code",
   "execution_count": 87,
   "metadata": {
    "id": "kIvZOIfjSwRK"
   },
   "outputs": [],
   "source": [
    "# model trainer\n",
    "\n",
    "class LanguageModelTrainer:\n",
    "    def __init__(self, model, loader, max_epochs=1, run_id='exp'):\n",
    "        \"\"\"\n",
    "            Use this class to train your model\n",
    "        \"\"\"\n",
    "        # feel free to add any other parameters here\n",
    "        self.model = model\n",
    "        self.loader = loader\n",
    "        self.train_losses = []\n",
    "        self.val_losses = []\n",
    "        self.predictions = []\n",
    "        self.predictions_test = []\n",
    "        self.generated_logits = []\n",
    "        self.generated = []\n",
    "        self.generated_logits_test = []\n",
    "        self.generated_test = []\n",
    "        self.epochs = 0\n",
    "        self.max_epochs = max_epochs\n",
    "        self.run_id = run_id\n",
    "        \n",
    "        # TODO: Define your optimizer and criterion here\n",
    "        self.optimizer = torch.optim.Adam(model.parameters(), lr=1e-3, weight_decay=1e-6)\n",
    "        self.criterion = nn.CrossEntropyLoss()\n",
    "\n",
    "    def train(self):\n",
    "        self.model.train() # set to training mode\n",
    "        epoch_loss = 0\n",
    "        num_batches = 0\n",
    "        for batch_num, (inputs, targets) in enumerate(self.loader):\n",
    "            epoch_loss += self.train_batch(inputs, targets)\n",
    "        epoch_loss = epoch_loss / (batch_num + 1)\n",
    "        self.epochs += 1\n",
    "        print('[TRAIN]  Epoch [%d/%d]   Loss: %.4f'\n",
    "                      % (self.epochs + 1, self.max_epochs, epoch_loss))\n",
    "        self.train_losses.append(epoch_loss)\n",
    "\n",
    "    def train_batch(self, inputs, targets):\n",
    "        \"\"\" \n",
    "            TODO: Define code for training a single batch of inputs\n",
    "        \n",
    "        \"\"\"\n",
    "        inputs=inputs.to(device)\n",
    "        targets=targets.to(device)\n",
    "        output,_=self.model(inputs)\n",
    "        loss=self.criterion(output.view(-1, output.size(2)),targets.view(-1))\n",
    "        self.optimizer.zero_grad()\n",
    "        loss.backward()\n",
    "        self.optimizer.step()\n",
    "        \n",
    "        del inputs\n",
    "        del targets\n",
    "        \n",
    "        return loss\n",
    "    \n",
    "    def test(self):\n",
    "        # don't change these\n",
    "        self.model.eval() # set to eval mode\n",
    "        predictions = TestLanguageModel.prediction(fixtures_pred['inp'], self.model) # get predictions\n",
    "        self.predictions.append(predictions)\n",
    "        generated_logits = TestLanguageModel.generation(fixtures_gen, 10, self.model) # generated predictions for 10 words\n",
    "        generated_logits_test = TestLanguageModel.generation(fixtures_gen_test, 10, self.model)\n",
    "        nll = test_prediction(predictions, fixtures_pred['out'])\n",
    "        generated = test_generation(fixtures_gen, generated_logits, vocab)\n",
    "        generated_test = test_generation(fixtures_gen_test, generated_logits_test, vocab)\n",
    "        self.val_losses.append(nll)\n",
    "        \n",
    "        self.generated.append(generated)\n",
    "        self.generated_test.append(generated_test)\n",
    "        self.generated_logits.append(generated_logits)\n",
    "        self.generated_logits_test.append(generated_logits_test)\n",
    "        \n",
    "        # generate predictions for test data\n",
    "        predictions_test = TestLanguageModel.prediction(fixtures_pred_test['inp'], self.model) # get predictions\n",
    "        self.predictions_test.append(predictions_test)\n",
    "            \n",
    "        print('[VAL]  Epoch [%d/%d]   Loss: %.4f'\n",
    "                      % (self.epochs + 1, self.max_epochs, nll))\n",
    "        return nll\n",
    "\n",
    "    def save(self):\n",
    "        # don't change these\n",
    "        model_path = os.path.join('experiments', self.run_id, 'model-{}.pkl'.format(self.epochs))\n",
    "        torch.save({'state_dict': self.model.state_dict()},\n",
    "            model_path)\n",
    "        np.save(os.path.join('experiments', self.run_id, 'predictions-{}.npy'.format(self.epochs)), self.predictions[-1])\n",
    "        np.save(os.path.join('experiments', self.run_id, 'predictions-test-{}.npy'.format(self.epochs)), self.predictions_test[-1])\n",
    "        np.save(os.path.join('experiments', self.run_id, 'generated_logits-{}.npy'.format(self.epochs)), self.generated_logits[-1])\n",
    "        np.save(os.path.join('experiments', self.run_id, 'generated_logits-test-{}.npy'.format(self.epochs)), self.generated_logits_test[-1])\n",
    "        with open(os.path.join('experiments', self.run_id, 'generated-{}.txt'.format(self.epochs)), 'w') as fw:\n",
    "            fw.write(self.generated[-1])\n",
    "        with open(os.path.join('experiments', self.run_id, 'generated-{}-test.txt'.format(self.epochs)), 'w') as fw:\n",
    "            fw.write(self.generated_test[-1])\n"
   ]
  },
  {
   "cell_type": "code",
   "execution_count": 113,
   "metadata": {
    "id": "xPI7_kZRSwRN"
   },
   "outputs": [],
   "source": [
    "class TestLanguageModel:\n",
    "    def prediction(inp, model):\n",
    "        \"\"\"\n",
    "            TODO: write prediction code here\n",
    "            \n",
    "            :param inp:\n",
    "            :return: a np.ndarray of logits\n",
    "        \"\"\"\n",
    "        output,_=model(torch.LongTensor(inp).to(device))\n",
    "        output=output[:,-1]#We only want the prob for the last word at the end of the sequence\n",
    "        \n",
    "        return output.cpu().detach().numpy()\n",
    "\n",
    "        \n",
    "    def generation(inp, forward, model):\n",
    "        \"\"\"\n",
    "            TODO: write generation code here\n",
    "\n",
    "            Generate a sequence of words given a starting sequence.\n",
    "            :param inp: Initial sequence of words (batch size, length)\n",
    "            :param forward: number of additional words to generate\n",
    "            :return: generated words (batch size, forward)\n",
    "            \n",
    "            \n",
    "        \"\"\" \n",
    "        model.eval()\n",
    "        generated_words=[]\n",
    "        #print(\"Shape of input:\",inp.shape)\n",
    "        output,hidden=model(torch.LongTensor(inp).to(device))\n",
    "        #print(\"output shape:\",output.shape)\n",
    "        current_word=torch.argmax(output,dim=2)#B,Seq_len,Vocab_size\n",
    "        #print(\"Current word shape :\",current_word.shape)##B,Seq_len,1\n",
    "        current_word=current_word[:,-1].unsqueeze(dim=1)#B,1,We need the last word only\n",
    "        #print(\"Current word shape :\",current_word.shape)\n",
    "        \n",
    "        generated_words.append(current_word)\n",
    "        if forward > 1:\n",
    "            for i in range(forward-1):\n",
    "                output,hidden=model(current_word,hidden)\n",
    "                current_word = torch.argmax(output,dim=2) # B,S,Vocab_size\n",
    "                current_word=current_word[:,-1].unsqueeze(dim=1)#B,1,We need the last word only,with argmx and concat that\n",
    "                generated_words.append(current_word)\n",
    "                \n",
    "        return torch.cat(generated_words,dim=1).cpu().detach().numpy()    \n",
    "        "
   ]
  },
  {
   "cell_type": "code",
   "execution_count": 90,
   "metadata": {
    "id": "TiUrjbEjSwRQ"
   },
   "outputs": [],
   "source": [
    "# TODO: define other hyperparameters here\n",
    "NUM_EPOCHS = 10\n",
    "BATCH_SIZE = 80"
   ]
  },
  {
   "cell_type": "code",
   "execution_count": 91,
   "metadata": {
    "id": "2HCVG5YISwRW"
   },
   "outputs": [
    {
     "name": "stdout",
     "output_type": "stream",
     "text": [
      "Saving models, predictions, and generated words to ./experiments/1606081046\n"
     ]
    }
   ],
   "source": [
    "run_id = str(int(time.time()))\n",
    "if not os.path.exists('./experiments'):\n",
    "    os.mkdir('./experiments')\n",
    "os.mkdir('./experiments/%s' % run_id)\n",
    "print(\"Saving models, predictions, and generated words to ./experiments/%s\" % run_id)"
   ]
  },
  {
   "cell_type": "code",
   "execution_count": 92,
   "metadata": {
    "id": "DbHH6zXTSwRa"
   },
   "outputs": [],
   "source": [
    "model = LanguageModel(len(vocab))\n",
    "model.to(device)\n",
    "#model = nn.DataParallel(model,device_ids=[4,5,6]).to(device)\n",
    "loader = LanguageModelDataLoader(dataset=dataset, batch_size=BATCH_SIZE, shuffle=True)\n",
    "trainer = LanguageModelTrainer(model=model, loader=loader, max_epochs=NUM_EPOCHS, run_id=run_id)"
   ]
  },
  {
   "cell_type": "code",
   "execution_count": 93,
   "metadata": {
    "id": "7D8wTJkBSwRc"
   },
   "outputs": [
    {
     "name": "stdout",
     "output_type": "stream",
     "text": [
      "[TRAIN]  Epoch [2/10]   Loss: 7.3301\n",
      "Shape of input: (32, 20)\n",
      "output shape: torch.Size([32, 20, 33278])\n",
      "Current word shape : torch.Size([32, 20])\n",
      "Current word shape : torch.Size([32, 1])\n",
      "Shape of input: (128, 30)\n",
      "output shape: torch.Size([128, 30, 33278])\n",
      "Current word shape : torch.Size([128, 30])\n",
      "Current word shape : torch.Size([128, 1])\n",
      "[VAL]  Epoch [2/10]   Loss: 6.4843\n",
      "Saving model, predictions and generated output for epoch 0 with NLL: 6.4842596\n",
      "[TRAIN]  Epoch [3/10]   Loss: 6.6802\n",
      "Shape of input: (32, 20)\n",
      "output shape: torch.Size([32, 20, 33278])\n",
      "Current word shape : torch.Size([32, 20])\n",
      "Current word shape : torch.Size([32, 1])\n",
      "Shape of input: (128, 30)\n",
      "output shape: torch.Size([128, 30, 33278])\n",
      "Current word shape : torch.Size([128, 30])\n",
      "Current word shape : torch.Size([128, 1])\n",
      "[VAL]  Epoch [3/10]   Loss: 5.7764\n",
      "Saving model, predictions and generated output for epoch 1 with NLL: 5.7764006\n",
      "[TRAIN]  Epoch [4/10]   Loss: 5.9800\n",
      "Shape of input: (32, 20)\n",
      "output shape: torch.Size([32, 20, 33278])\n",
      "Current word shape : torch.Size([32, 20])\n",
      "Current word shape : torch.Size([32, 1])\n",
      "Shape of input: (128, 30)\n",
      "output shape: torch.Size([128, 30, 33278])\n",
      "Current word shape : torch.Size([128, 30])\n",
      "Current word shape : torch.Size([128, 1])\n",
      "[VAL]  Epoch [4/10]   Loss: 5.2898\n",
      "Saving model, predictions and generated output for epoch 2 with NLL: 5.289776\n",
      "[TRAIN]  Epoch [5/10]   Loss: 5.5452\n",
      "Shape of input: (32, 20)\n",
      "output shape: torch.Size([32, 20, 33278])\n",
      "Current word shape : torch.Size([32, 20])\n",
      "Current word shape : torch.Size([32, 1])\n",
      "Shape of input: (128, 30)\n",
      "output shape: torch.Size([128, 30, 33278])\n",
      "Current word shape : torch.Size([128, 30])\n",
      "Current word shape : torch.Size([128, 1])\n",
      "[VAL]  Epoch [5/10]   Loss: 4.9575\n",
      "Saving model, predictions and generated output for epoch 3 with NLL: 4.95749\n",
      "[TRAIN]  Epoch [6/10]   Loss: 5.2670\n",
      "Shape of input: (32, 20)\n",
      "output shape: torch.Size([32, 20, 33278])\n",
      "Current word shape : torch.Size([32, 20])\n",
      "Current word shape : torch.Size([32, 1])\n",
      "Shape of input: (128, 30)\n",
      "output shape: torch.Size([128, 30, 33278])\n",
      "Current word shape : torch.Size([128, 30])\n",
      "Current word shape : torch.Size([128, 1])\n",
      "[VAL]  Epoch [6/10]   Loss: 4.7629\n",
      "Saving model, predictions and generated output for epoch 4 with NLL: 4.762946\n",
      "[TRAIN]  Epoch [7/10]   Loss: 5.0404\n",
      "Shape of input: (32, 20)\n",
      "output shape: torch.Size([32, 20, 33278])\n",
      "Current word shape : torch.Size([32, 20])\n",
      "Current word shape : torch.Size([32, 1])\n",
      "Shape of input: (128, 30)\n",
      "output shape: torch.Size([128, 30, 33278])\n",
      "Current word shape : torch.Size([128, 30])\n",
      "Current word shape : torch.Size([128, 1])\n",
      "[VAL]  Epoch [7/10]   Loss: 4.6718\n",
      "Saving model, predictions and generated output for epoch 5 with NLL: 4.6717777\n",
      "[TRAIN]  Epoch [8/10]   Loss: 4.8616\n",
      "Shape of input: (32, 20)\n",
      "output shape: torch.Size([32, 20, 33278])\n",
      "Current word shape : torch.Size([32, 20])\n",
      "Current word shape : torch.Size([32, 1])\n",
      "Shape of input: (128, 30)\n",
      "output shape: torch.Size([128, 30, 33278])\n",
      "Current word shape : torch.Size([128, 30])\n",
      "Current word shape : torch.Size([128, 1])\n",
      "[VAL]  Epoch [8/10]   Loss: 4.6007\n",
      "Saving model, predictions and generated output for epoch 6 with NLL: 4.6006546\n",
      "[TRAIN]  Epoch [9/10]   Loss: 4.6995\n",
      "Shape of input: (32, 20)\n",
      "output shape: torch.Size([32, 20, 33278])\n",
      "Current word shape : torch.Size([32, 20])\n",
      "Current word shape : torch.Size([32, 1])\n",
      "Shape of input: (128, 30)\n",
      "output shape: torch.Size([128, 30, 33278])\n",
      "Current word shape : torch.Size([128, 30])\n",
      "Current word shape : torch.Size([128, 1])\n",
      "[VAL]  Epoch [9/10]   Loss: 4.5107\n",
      "Saving model, predictions and generated output for epoch 7 with NLL: 4.5106697\n",
      "[TRAIN]  Epoch [10/10]   Loss: 4.5621\n",
      "Shape of input: (32, 20)\n",
      "output shape: torch.Size([32, 20, 33278])\n",
      "Current word shape : torch.Size([32, 20])\n",
      "Current word shape : torch.Size([32, 1])\n",
      "Shape of input: (128, 30)\n",
      "output shape: torch.Size([128, 30, 33278])\n",
      "Current word shape : torch.Size([128, 30])\n",
      "Current word shape : torch.Size([128, 1])\n",
      "[VAL]  Epoch [10/10]   Loss: 4.5615\n",
      "[TRAIN]  Epoch [11/10]   Loss: 4.4341\n",
      "Shape of input: (32, 20)\n",
      "output shape: torch.Size([32, 20, 33278])\n",
      "Current word shape : torch.Size([32, 20])\n",
      "Current word shape : torch.Size([32, 1])\n",
      "Shape of input: (128, 30)\n",
      "output shape: torch.Size([128, 30, 33278])\n",
      "Current word shape : torch.Size([128, 30])\n",
      "Current word shape : torch.Size([128, 1])\n",
      "[VAL]  Epoch [11/10]   Loss: 4.4432\n",
      "Saving model, predictions and generated output for epoch 9 with NLL: 4.4432\n"
     ]
    }
   ],
   "source": [
    "best_nll = 1e30 \n",
    "for epoch in range(NUM_EPOCHS):\n",
    "    trainer.train()\n",
    "    nll = trainer.test()\n",
    "    if nll < best_nll:\n",
    "        best_nll = nll\n",
    "        print(\"Saving model, predictions and generated output for epoch \"+str(epoch)+\" with NLL: \"+ str(best_nll))\n",
    "        trainer.save()"
   ]
  },
  {
   "cell_type": "code",
   "execution_count": 94,
   "metadata": {
    "id": "z2FmDqBCSwRf"
   },
   "outputs": [
    {
     "data": {
      "image/png": "[encoded data removed]",
      "text/plain": [
       "<Figure size 432x288 with 1 Axes>"
      ]
     },
     "metadata": {
      "needs_background": "light"
     },
     "output_type": "display_data"
    }
   ],
   "source": [
    "# Don't change these\n",
    "# plot training curves\n",
    "plt.figure()\n",
    "plt.plot(range(1, trainer.epochs + 1), trainer.train_losses, label='Training losses')\n",
    "plt.plot(range(1, trainer.epochs + 1), trainer.val_losses, label='Validation losses')\n",
    "plt.xlabel('Epochs')\n",
    "plt.ylabel('NLL')\n",
    "plt.legend()\n",
    "plt.show()"
   ]
  },
  {
   "cell_type": "code",
   "execution_count": 95,
   "metadata": {
    "id": "ipdbmqaGSwRh"
   },
   "outputs": [
    {
     "name": "stdout",
     "output_type": "stream",
     "text": [
      "Input | Output #0: while the group was en route , but only three were ultimately able to attack . None of them were | not able to take the ball to the ground ,\n",
      "Input | Output #1: <unk> , where he remained on loan until 30 June 2010 . <eol> = = = Return to Manchester United | = = = <eol> The first two @-@ year contract\n",
      "Input | Output #2: 25 April 2013 , denoting shipments of 500 @,@ 000 copies . <eol> The song became One Direction 's fourth | single , \" The <unk> \" , which was released\n",
      "Input | Output #3: , and Bruce R. ) one daughter ( Wendy J. <unk> ) and two grandchildren , died in <unk> , | and <unk> . <eol> = = = <unk> = =\n",
      "Input | Output #4: Warrior were examples of this type . Because their armor was so heavy , they could only carry a single | @-@ scale <unk> , and the <unk> of the <unk>\n",
      "Input | Output #5: the embassy at 1 : 49 and landed on Guam at 2 : 23 ; twenty minutes later , Ambassador | and <unk> were sent to the <unk> . <eol> =\n",
      "Input | Output #6: <unk> , $ 96 million USD ) . Damage was heaviest in South Korea , notably where it moved ashore | . The storm moved into the Pacific Ocean on October\n",
      "Input | Output #7: The <unk> were condemned as <unk> by <unk> , who saw the riots as hampering attempts to resolve the situation | . <eol> = = = <unk> = = = <eol>\n",
      "Input | Output #8: by a decision made by the War Office in mid @-@ 1941 , as it was considering the equipment to | be the first of the city . The first of\n",
      "Input | Output #9: Division crossed the <unk> at a number of places and climbed the hills quietly toward the 9th Infantry river line | . The first ANZAC ships were also the only battalion\n",
      "Input | Output #10: = <eol> = = = French VIII . Corps ( Corps <unk> ) = = = <eol> On 6 November | , the Ustaše was sent to the United States Navy\n",
      "Input | Output #11: of the World from 9th Avenue \" . This is regarded as his most famous work . It is considered | a \" <unk> \" , and the \" <unk> of\n",
      "Input | Output #12: — <unk> @-@ 10 , <unk> @-@ 12 , <unk> @-@ 16 , <unk> @-@ 17 — were all converted | into the <unk> . <eol> = = = <unk> =\n",
      "Input | Output #13: And now he has . \" <eol> = = Family = = <eol> <unk> lived 37 of his years in | the United States . <eol> = = = <unk> =\n",
      "Input | Output #14: Hell to which he has been condemned for <unk> . Eliot , in a letter to John <unk> dated 27 | June , was a member of the <unk> of the\n",
      "Input | Output #15: Luoyang area , fulfilling his duties in domestic affairs . <eol> In the autumn of <unk> , he met Li | <unk> , who had been the first governor of the\n",
      "Input | Output #16: Power said they enjoyed Block Ball and its number of stages , but wondered how its eight <unk> of memory | was not <unk> . <eol> = = = <unk> =\n",
      "Input | Output #17: by Lloyd F. Lonergan . The cameraman was Jacques <unk> . <eol> = = Release and reception = = <eol> | The episode was written by the <unk> of the <unk>\n",
      "Input | Output #18: alone , the Austrians lost more than half their reserve artillery park , 6 @,@ 000 ( out of 8 | @,@ 000 ) , and the first of the two\n",
      "Input | Output #19: while attacking a ship at <unk> in the Dutch East Indies ; the loss was compounded by the fact that | the NDH had been <unk> by the British Empire .\n",
      "Input | Output #20: first raised in 2007 by the member of parliament ( MP ) for <unk> . The gangsters may have run | the <unk> of the <unk> and <unk> of the <unk>\n",
      "Input | Output #21: Species are also non @-@ spiny <unk> and includes both large trees with stout stems up to 30 metres ( | 1 @.@ 8 in ) thick . The oribi is\n",
      "Input | Output #22: \" : specific design issues with the building 's energy efficiency included the fact that the largest room in the | city was the first of the city 's main population\n",
      "Input | Output #23: were reported to support over 300 @,@ 000 households in the Brazilian state of <unk> in 2005 , and in | the United States , the first of the city 's\n",
      "Input | Output #24: port . <unk> in Vietnam also warned for the potential of heavy rainfall due to the dissipating Tropical Depression <unk> | . <eol> = = = Tropical Storm Eighteen = =\n",
      "Input | Output #25: T @-@ numbers in their tropical cyclone products . The following example is from discussion number 3 of Tropical Depression | Twenty @-@ E in the United States . <eol> =\n",
      "Input | Output #26: South Australia hosted the three @-@ game semi @-@ final series against the New South Wales <unk> . Both teams | were also the first team in the season . <eol>\n",
      "Input | Output #27: Perth from contention and secured the last finals spot for the <unk> . <eol> = = = Statistical leaders = | = = <eol> The first two @-@ year @-@ old\n",
      "Input | Output #28: deemed it an \" amazing pop song \" , lauding the group 's falsetto and its \" head @-@ <unk> | \" . The song was released on the Billboard Hot\n",
      "Input | Output #29: , but began patrolling the English Channel after <unk> @-@ 6 pioneered a route past British <unk> nets and mines | . The company was also the first of the British\n",
      "Input | Output #30: production executives to let him direct . He had already discussed the film with <unk> and Cohen , and felt | that the episode was \" <unk> \" . <eol> =\n",
      "Input | Output #31: and Nick <unk> at Studio <unk> in Los Angeles , California , and was released on August 1 , 2006 | . <eol> = = = <unk> = = = <eol>\n",
      "\n"
     ]
    }
   ],
   "source": [
    "# see generated output\n",
    "print (trainer.generated[-1]) # get last generated output"
   ]
  },
  {
   "cell_type": "code",
   "execution_count": 112,
   "metadata": {},
   "outputs": [
    {
     "name": "stdout",
     "output_type": "stream",
     "text": [
      "/bin/sh: 1: Syntax error: end of file unexpected\r\n"
     ]
    }
   ],
   "source": [
    "!make runid=<experiments/1606081046/> epoch=<10>\n"
   ]
  },
  {
   "cell_type": "code",
   "execution_count": null,
   "metadata": {},
   "outputs": [],
   "source": []
  }
 ],
 "metadata": {
  "colab": {
   "name": "training.ipynb",
   "provenance": []
  },
  "kernelspec": {
   "display_name": "Python 3",
   "language": "python",
   "name": "python3"
  },
  "language_info": {
   "codemirror_mode": {
    "name": "ipython",
    "version": 3
   },
   "file_extension": ".py",
   "mimetype": "text/x-python",
   "name": "python",
   "nbconvert_exporter": "python",
   "pygments_lexer": "ipython3",
   "version": "3.8.2"
  }
 },
 "nbformat": 4,
 "nbformat_minor": 1
}
